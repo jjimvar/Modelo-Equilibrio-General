{
 "cells": [
  {
   "cell_type": "code",
   "execution_count": 11,
   "metadata": {},
   "outputs": [],
   "source": [
    "import pandas as pd\n",
    "import numpy as np\n",
    "import statsmodels.api as sm\n",
    "from statsmodels.tsa.ar_model import AutoReg\n",
    "dat=pd.read_excel(\"C:/Users/Usuario/OneDrive/Escritorio/4to GANE/CER/Trabajo/Tipos impositivos DK.xlsx\")\n",
    "dat.set_index(\"Fecha\",inplace=True)"
   ]
  },
  {
   "cell_type": "code",
   "execution_count": 12,
   "metadata": {},
   "outputs": [
    {
     "name": "stderr",
     "output_type": "stream",
     "text": [
      "C:\\Users\\Usuario\\AppData\\Local\\Packages\\PythonSoftwareFoundation.Python.3.13_qbz5n2kfra8p0\\LocalCache\\local-packages\\Python313\\site-packages\\statsmodels\\tsa\\base\\tsa_model.py:473: ValueWarning: An unsupported index was provided. As a result, forecasts cannot be generated. To use the model for forecasting, use one of the supported classes of index.\n",
      "  self._init_dates(dates, freq)\n",
      "C:\\Users\\Usuario\\AppData\\Local\\Packages\\PythonSoftwareFoundation.Python.3.13_qbz5n2kfra8p0\\LocalCache\\local-packages\\Python313\\site-packages\\statsmodels\\tsa\\base\\tsa_model.py:473: ValueWarning: An unsupported index was provided. As a result, forecasts cannot be generated. To use the model for forecasting, use one of the supported classes of index.\n",
      "  self._init_dates(dates, freq)\n",
      "C:\\Users\\Usuario\\AppData\\Local\\Packages\\PythonSoftwareFoundation.Python.3.13_qbz5n2kfra8p0\\LocalCache\\local-packages\\Python313\\site-packages\\statsmodels\\tsa\\base\\tsa_model.py:473: ValueWarning: An unsupported index was provided. As a result, forecasts cannot be generated. To use the model for forecasting, use one of the supported classes of index.\n",
      "  self._init_dates(dates, freq)\n"
     ]
    }
   ],
   "source": [
    "regC=AutoReg(dat[\"tauC\"], lags=1).fit()\n",
    "tauC_SS=regC.params[\"const\"]/(1-regC.params[\"tauC.L1\"])\n",
    "rhoC=regC.params[\"tauC.L1\"]\n",
    "sigmaC=np.std(regC.resid)\n",
    "\n",
    "\n",
    "regN=AutoReg(dat[\"tauN\"], lags=1).fit()\n",
    "tauN_SS=regN.params[\"const\"]/(1-regN.params[\"tauN.L1\"])\n",
    "rhoN=regN.params[\"tauN.L1\"]\n",
    "sigmaN=np.std(regN.resid)\n",
    "\n",
    "regK=AutoReg(dat[\"tauK\"], lags=1).fit()\n",
    "tauK_SS=regK.params[\"const\"]/(1-regK.params[\"tauK.L1\"])\n",
    "rhoK=regK.params[\"tauK.L1\"]\n",
    "sigmaK=np.std(regK.resid)"
   ]
  },
  {
   "cell_type": "code",
   "execution_count": 13,
   "metadata": {},
   "outputs": [],
   "source": [
    "nC=regC.nobs  # Número de observaciones\n",
    "kC=regC.df_model  # Grados de libertad del modelo (número de regresores)\n",
    "# Calcular suma de cuadrados de residuos (SSR) y totales (SST)\n",
    "SSRC=np.sum(regC.resid ** 2)\n",
    "SSTC=np.sum((dat[\"tauC\"] - np.mean(dat[\"tauC\"])) ** 2)\n",
    "r2C=1-(SSRC/SSTC)\n",
    "r2_adjC=1-((1-r2C)*(nC-1)/(nC-kC-1))\n",
    "\n",
    "\n",
    "nN = regN.nobs  \n",
    "kN = regN.df_model  \n",
    "SSRN = np.sum(regN.resid ** 2)\n",
    "SSTN = np.sum((dat[\"tauN\"] - np.mean(dat[\"tauN\"])) ** 2)\n",
    "r2N = 1 - (SSRN / SSTN)\n",
    "r2_adjN = 1 - ((1 - r2N) * (nN - 1) / (nN - kN - 1))\n",
    "\n",
    "\n",
    "nK = regK.nobs\n",
    "kK = regK.df_model\n",
    "SSRK = np.sum(regK.resid ** 2)\n",
    "SSTK = np.sum((dat[\"tauK\"] - np.mean(dat[\"tauK\"])) ** 2)\n",
    "r2K = 1 - (SSRK / SSTK)\n",
    "r2_adjK = 1 - ((1 - r2K) * (nK - 1) / (nK - kK - 1))"
   ]
  },
  {
   "cell_type": "code",
   "execution_count": 14,
   "metadata": {},
   "outputs": [],
   "source": [
    "resul=pd.DataFrame({\n",
    "    \"tauC_SS\": [tauC_SS],\n",
    "    \"rhoC\": [rhoC],\n",
    "    \"sigmaC\": [sigmaC],\n",
    "    \"tauN_SS\": [tauN_SS],\n",
    "    \"rhoN\": [rhoN],\n",
    "    \"sigmaN\": [sigmaN],\n",
    "    \"tauK_SS\": [tauK_SS],\n",
    "    \"rhoK\": [rhoK],\n",
    "    \"sigmaK\": [sigmaK]})\n",
    "\n",
    "coefC=regC.params\n",
    "pvC=regC.pvalues\n",
    "arC=pd.DataFrame({\"Coeficientes\": coefC, \"P-valor\":pvC})\n",
    "arC.loc[\"N. Obs.\"]=[regC.nobs, None]\n",
    "arC.loc[\"SD\"]=[sigmaC, None]\n",
    "arC.loc[\"R2 ajustado\"]=[r2_adjC, None]\n",
    "\n",
    "\n",
    "coefN=regN.params\n",
    "pvN=regN.pvalues\n",
    "arN=pd.DataFrame({\"Coeficientes\": coefN, \"P-valor\":pvN})\n",
    "arN.loc[\"N. Obs.\"]=[regN.nobs, None]\n",
    "arN.loc[\"SD\"]=[sigmaN, None]\n",
    "arN.loc[\"R2 ajustado\"]=[r2_adjN, None]\n",
    "\n",
    "coefK=regK.params\n",
    "pvK=regK.pvalues\n",
    "arK=pd.DataFrame({\"Coeficientes\": coefK, \"P-valor\":pvK})\n",
    "arK.loc[\"N. Obs.\"]=[regK.nobs, None]\n",
    "arK.loc[\"SD\"]=[sigmaK, None]\n",
    "arK.loc[\"R2 ajustado\"]=[r2_adjK, None]\n",
    "\n",
    "with pd.ExcelWriter(\"C:/Users/Usuario/OneDrive/Escritorio/4to GANE/CER/Trabajo/Tau.xlsx\") as writer:\n",
    "    resul.to_excel(writer, sheet_name=\"Parametros\")\n",
    "    arC.to_excel(writer, sheet_name=\"ARC\")\n",
    "    arN.to_excel(writer, sheet_name=\"ARN\")\n",
    "    arK.to_excel(writer, sheet_name=\"ARK\")"
   ]
  }
 ],
 "metadata": {
  "kernelspec": {
   "display_name": "Python 3",
   "language": "python",
   "name": "python3"
  },
  "language_info": {
   "codemirror_mode": {
    "name": "ipython",
    "version": 3
   },
   "file_extension": ".py",
   "mimetype": "text/x-python",
   "name": "python",
   "nbconvert_exporter": "python",
   "pygments_lexer": "ipython3",
   "version": "3.13.1"
  }
 },
 "nbformat": 4,
 "nbformat_minor": 2
}
